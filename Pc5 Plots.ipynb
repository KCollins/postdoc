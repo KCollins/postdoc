{
 "cells": [
  {
   "cell_type": "markdown",
   "id": "4e678f05",
   "metadata": {},
   "source": [
    "# Pc5 Analysis\n",
    "\n",
    "This notebook contains code relevant to my postdoc work (cf. [NSF 2218996](https://www.nsf.gov/awardsearch/showAward?AWD_ID=2218996&HistoricalAwards=false)). "
   ]
  },
  {
   "cell_type": "markdown",
   "id": "e5173a83",
   "metadata": {},
   "source": [
    "Approach 1: Standard Tools Based on Visual Inspection\n",
    "1. Obtain event lists that have already been generated based on satellite measurements: [8] for\n",
    "THEMIS, [22] for MMS.\n",
    "2. Perform data reduction: Reduce events to include only those with sufficient ground mag-\n",
    "netometer coverage and where the transients occurred within +/-2 hours local time of the\n",
    "40-degree magnetic meridian. This region is selected because of the density of ground stations\n",
    "available in both hemispheres; if time permits, other meridians will also be examined.\n",
    "3. Generate survey plots of north-south hemisphere magnetometer data comparable to the re-\n",
    "sults shown in Figures 2 and 3. Perform visual inspection to identify Pc5 wave activity and\n",
    "record properties (north-south hemisphere asymmetry, spatial localization, amplitude, asso-\n",
    "ciated with isolated transient or train of transients), or record null results. In parallel, use\n",
    "automated data processing techniques to quantify band-integrated ULF wave power before,\n",
    "during, and after each event at each magnetometer station, as well as identify peaks in the\n",
    "power spectrum. The same tools will be used as in past statistical studies of ULF waves (e.g.,\n",
    "[23] and [13]). Generate survey plots showing the wave power as a function of latitude in both\n",
    "hemispheres, as has been done in past studies (e.g., [24]), and use these as further tools to\n",
    "quantify north-south hemisphere asymmetries of wave power and spatial localization of wave\n",
    "activity."
   ]
  }
 ],
 "metadata": {
  "kernelspec": {
   "display_name": "Python 3",
   "language": "python",
   "name": "python3"
  },
  "language_info": {
   "codemirror_mode": {
    "name": "ipython",
    "version": 3
   },
   "file_extension": ".py",
   "mimetype": "text/x-python",
   "name": "python",
   "nbconvert_exporter": "python",
   "pygments_lexer": "ipython3",
   "version": "3.6.9"
  }
 },
 "nbformat": 4,
 "nbformat_minor": 5
}
