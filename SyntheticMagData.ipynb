{
 "cells": [
  {
   "cell_type": "markdown",
   "id": "78310226-131a-4701-b1b9-924521c42b28",
   "metadata": {},
   "source": [
    "# Synthetic magnetomter data\n",
    "This is code to generate synthetic magnetometer data. The goal is to generate a dataset that serves to validate (a) visualization methods and (b) sonification methods."
   ]
  },
  {
   "cell_type": "code",
   "execution_count": null,
   "id": "7733f4a5-8cd6-493d-b00a-5ce06f1c0402",
   "metadata": {},
   "outputs": [],
   "source": [
    "import numpy as np\n",
    "import matplotlib.pyplot as plt\n",
    "\n",
    "from ai import cdas\n",
    "from datetime import datetime\n",
    "from matplotlib import pyplot as plt\n",
    "import pandas as pd"
   ]
  },
  {
   "cell_type": "markdown",
   "id": "69d584e5-6092-4497-8082-f92de8ff484d",
   "metadata": {},
   "source": [
    "## Case 1: Isolated traveling convection vortex\n"
   ]
  },
  {
   "cell_type": "code",
   "execution_count": null,
   "id": "bc5029b2-688c-4324-b4aa-5d398ff17561",
   "metadata": {},
   "outputs": [],
   "source": [
    "# Assume 1s array\n",
    "t = np.arange(86400) # one day's worth of data\n",
    "\n",
    "# Assume 5 mHz wave\n",
    "f = 0.005\n",
    "w1 = 2 * np.pi * f\n",
    "\n",
    "# Gaussian envelope\n",
    "envelope = np.exp(-(t - 5000)**2 / (2 * 1000**2))\n",
    "\n",
    "# Generate noise plus a growing then damping sine wave (Gaussian envelope)\n",
    "b = np.random.randn(len(t)) + 10 * envelope * np.sin(w1 * t)\n",
    "\n",
    "# Plot t and b\n",
    "plt.plot(t, b.T)\n",
    "plt.show()"
   ]
  },
  {
   "cell_type": "markdown",
   "id": "9a4d469a-57e0-427f-af56-db51293a2872",
   "metadata": {},
   "source": [
    "### Convert to appropriate dataframe format: \n",
    "We want something similar to what comes from ai.cdas. Let's pull up an example:"
   ]
  },
  {
   "cell_type": "code",
   "execution_count": null,
   "id": "8a2e75b4-bcb4-40e3-8aa9-ce63b81a3271",
   "metadata": {},
   "outputs": [],
   "source": [
    "import datetime\n",
    "\n",
    "parameter = 'Bz'\n",
    "start = datetime.datetime(2016, 1, 24, 0, 0, 0) \n",
    "end = datetime.datetime(2016, 1, 25, 0, 0, 0)\n",
    "maglist_a = ['upn', 'umq', 'gdh', 'atu', 'skt', 'ghb']\n",
    "maglist_b = ['pg0', 'pg1', 'pg2', 'pg3', 'pg4', 'pg5']\n",
    "magname = 'pg0'\n",
    "\n",
    "\n",
    "data = cdas.get_data(\n",
    "                    'sp_phys',\n",
    "                    'THG_L2_MAG_'+ magname.upper(),\n",
    "                    start,\n",
    "                    end,\n",
    "                    ['thg_mag_'+ magname]\n",
    "                )\n",
    "data = pd.DataFrame(data)\n",
    "# data"
   ]
  },
  {
   "cell_type": "markdown",
   "id": "f1cee571-8847-4e9a-855f-365c1f115846",
   "metadata": {},
   "source": [
    "Here's a function from `magFunctions.py` that creates a dataframe of values from multiple magnetometers. "
   ]
  },
  {
   "cell_type": "code",
   "execution_count": null,
   "id": "add80af2-c6f6-4f0e-90bf-70b338257c34",
   "metadata": {},
   "outputs": [],
   "source": [
    "# import magFunctions \n",
    "# foo = magFunctions.magdf()\n",
    "# foo"
   ]
  },
  {
   "cell_type": "code",
   "execution_count": null,
   "id": "79c475f0-b885-40d3-bee5-3e5d2c3cbe56",
   "metadata": {},
   "outputs": [],
   "source": [
    "# pd.pivot(foo, 'UT', 'Magnetometer')"
   ]
  },
  {
   "cell_type": "markdown",
   "id": "5e10916c-70b5-44a9-9529-6888a3565ead",
   "metadata": {},
   "source": [
    "<nobr>![TODO](https://img.shields.io/badge/TODO-orange)</nobr>\n",
    "Let's take the signal we generated above, and fit it into such a dataframe. \n",
    "\n",
    "**QUESTION: Do I apply the signal to just Bx/y/z, or to all three?**\n",
    "\n",
    "**QUESTION: How do I determine the amplitude of the signal?**\n",
    "\n",
    "**QUESTION: How do I derive the impact on each magnetometer from the fundamental equation?**"
   ]
  },
  {
   "cell_type": "code",
   "execution_count": null,
   "id": "b8e15a37-2a6c-4887-b7aa-cecd5b1ca03f",
   "metadata": {},
   "outputs": [],
   "source": [
    "data['MAGNETIC_NORTH_-_H'] = 0 + b.T\n",
    "data"
   ]
  },
  {
   "cell_type": "markdown",
   "id": "f9053951-5682-48ca-b83a-9d514cf6e1f3",
   "metadata": {},
   "source": [
    "<nobr>![TODO](https://img.shields.io/badge/TODO-orange)</nobr> Write the resulting dataframe to a file and demonstrate how to read from it."
   ]
  },
  {
   "cell_type": "markdown",
   "id": "c7f2e325-b5c7-40b6-9d80-38608192c13b",
   "metadata": {},
   "source": [
    "## Case 2: Chain of TCVs\n",
    "This dataset uses the same code as above to simulate several TCVs in sequence, with varying periods. "
   ]
  },
  {
   "cell_type": "code",
   "execution_count": null,
   "id": "aec06413-61f9-4acf-aa99-9cd8de7a8385",
   "metadata": {},
   "outputs": [],
   "source": [
    "# # Assume 1s array\n",
    "# t = np.arange(86400) # one day's worth of data\n",
    "\n",
    "# # Assume 5 mHz wave\n",
    "# f = 0.005\n",
    "# w1 = 2 * np.pi * f\n",
    "\n",
    "# # Gaussian envelope\n",
    "# envelope = np.exp(-(t - 5000)**2 / (2 * 1000**2))\n",
    "\n",
    "# # Generate noise plus a growing then damping sine wave (Gaussian envelope)\n",
    "# b = np.random.randn(len(t)) + 10 * envelope * np.sin(w1 * t)\n",
    "\n",
    "# # Plot t and b\n",
    "# plt.plot(t, b.T)\n",
    "# plt.show()"
   ]
  },
  {
   "cell_type": "code",
   "execution_count": null,
   "id": "d1209acc-d95d-4007-99d4-edac0b3e7790",
   "metadata": {},
   "outputs": [],
   "source": []
  },
  {
   "cell_type": "markdown",
   "id": "8bc794de-4add-4ee3-ae64-9129cc7c78d1",
   "metadata": {},
   "source": [
    "<nobr>![TODO](https://img.shields.io/badge/TODO-orange)</nobr> Write the resulting dataframe to a file and demonstrate how to read from it."
   ]
  },
  {
   "cell_type": "markdown",
   "id": "db6dcc5f-17e6-43f0-af76-1cfa3421f122",
   "metadata": {},
   "source": [
    "## Case 3: Red noise (control)\n",
    "There's some good code at this page: https://stackoverflow.com/questions/67085963/generate-colors-of-noise-in-python"
   ]
  },
  {
   "cell_type": "code",
   "execution_count": null,
   "id": "79a723cf-9e19-4ca2-8988-6ecb9491d3df",
   "metadata": {},
   "outputs": [],
   "source": [
    "# !pip install colorednoise\n",
    "import colorednoise as cn\n",
    "from matplotlib import pylab as plt\n",
    "\n",
    "#input values\n",
    "beta = 2         # the exponent: 0=white noite; 1=pink noise;  2=red noise (also \"brownian noise\")\n",
    "samples = 2**16  # number of samples to generate (time series extension)\n",
    "\n",
    "#Deffing some colores\n",
    "A = cn.powerlaw_psd_gaussian(beta, samples)\n",
    "\n",
    "#Ploting first subfiure\n",
    "plt.plot(A, color='black', linewidth=1)\n",
    "plt.title('Colored Noise for β='+str(beta))\n",
    "plt.xlabel('Samples (time-steps)')\n",
    "plt.ylabel('Amplitude(t)', fontsize='large')\n",
    "plt.xlim(1,5000)\n",
    "plt.show()"
   ]
  }
 ],
 "metadata": {
  "kernelspec": {
   "display_name": "Python 3 (ipykernel)",
   "language": "python",
   "name": "python3"
  },
  "language_info": {
   "codemirror_mode": {
    "name": "ipython",
    "version": 3
   },
   "file_extension": ".py",
   "mimetype": "text/x-python",
   "name": "python",
   "nbconvert_exporter": "python",
   "pygments_lexer": "ipython3",
   "version": "3.9.1"
  },
  "widgets": {
   "application/vnd.jupyter.widget-state+json": {
    "state": {},
    "version_major": 2,
    "version_minor": 0
   }
  }
 },
 "nbformat": 4,
 "nbformat_minor": 5
}
